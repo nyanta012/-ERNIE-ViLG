{
  "nbformat": 4,
  "nbformat_minor": 0,
  "metadata": {
    "colab": {
      "provenance": [],
      "authorship_tag": "ABX9TyP16lcddTKfp9CP7pyzFvom",
      "include_colab_link": true
    },
    "kernelspec": {
      "name": "python3",
      "display_name": "Python 3"
    },
    "language_info": {
      "name": "python"
    }
  },
  "cells": [
    {
      "cell_type": "markdown",
      "metadata": {
        "id": "view-in-github",
        "colab_type": "text"
      },
      "source": [
        "<a href=\"https://colab.research.google.com/github/nyanta012/demo/blob/main/Prompt_Caching.ipynb\" target=\"_parent\"><img src=\"https://colab.research.google.com/assets/colab-badge.svg\" alt=\"Open In Colab\"/></a>"
      ]
    },
    {
      "cell_type": "code",
      "execution_count": 1,
      "metadata": {
        "id": "DvlCT8_bYKMu"
      },
      "outputs": [],
      "source": [
        "%%capture\n",
        "!pip install bs4 anthropic"
      ]
    },
    {
      "cell_type": "code",
      "source": [
        "import getpass\n",
        "import os\n",
        "\n",
        "import anthropic\n",
        "import time\n",
        "import requests\n",
        "from bs4 import BeautifulSoup"
      ],
      "metadata": {
        "id": "pxaKVDbmYMty"
      },
      "execution_count": 3,
      "outputs": []
    },
    {
      "cell_type": "code",
      "source": [
        "if not os.environ.get(\"ANTHROPIC_API_KEY\"):\n",
        "    os.environ[\"ANTHROPIC_API_KEY\"] = getpass.getpass(\"ANTHROPIC API Key:\")"
      ],
      "metadata": {
        "colab": {
          "base_uri": "https://localhost:8080/"
        },
        "id": "m6V2YAR6eCmn",
        "outputId": "c9cb7797-e72d-471c-e350-f352f871cef3"
      },
      "execution_count": 4,
      "outputs": [
        {
          "name": "stdout",
          "output_type": "stream",
          "text": [
            "ANTHROPIC API Key:··········\n"
          ]
        }
      ]
    },
    {
      "cell_type": "code",
      "source": [],
      "metadata": {
        "id": "BGqhcsuWZCd-"
      },
      "execution_count": null,
      "outputs": []
    },
    {
      "cell_type": "markdown",
      "source": [
        "# 利用文章の取得"
      ],
      "metadata": {
        "id": "VnTG7J62ZDDO"
      }
    },
    {
      "cell_type": "code",
      "source": [
        "def fetch_article_content(url):\n",
        "    response = requests.get(url)\n",
        "    soup = BeautifulSoup(response.content, \"html.parser\")\n",
        "\n",
        "    # Remove script and style elements\n",
        "    for script in soup([\"script\", \"style\"]):\n",
        "        script.decompose()\n",
        "\n",
        "    # Get text\n",
        "    text = soup.get_text()\n",
        "\n",
        "    # Break into lines and remove leading and trailing space on each\n",
        "    lines = (line.strip() for line in text.splitlines())\n",
        "    # Break multi-headlines into a line each\n",
        "    chunks = (phrase.strip() for line in lines for phrase in line.split(\"  \"))\n",
        "    # Drop blank lines\n",
        "    text = \"\\n\".join(chunk for chunk in chunks if chunk)\n",
        "\n",
        "    return text\n",
        "\n",
        "\n",
        "# Fetch the content of the article\n",
        "book_url = \"https://www.gutenberg.org/cache/epub/1342/pg1342.txt\"\n",
        "book_content = fetch_article_content(book_url)\n",
        "\n",
        "print(f\"Fetched {len(book_content)} characters from the book.\")\n",
        "print(\"First 500 characters:\")\n",
        "print(book_content[:500])"
      ],
      "metadata": {
        "colab": {
          "base_uri": "https://localhost:8080/"
        },
        "id": "h_wNoFu7d3rA",
        "outputId": "e675a2b5-819c-45c6-de30-a79ccb1dd0d3"
      },
      "execution_count": 5,
      "outputs": [
        {
          "output_type": "stream",
          "name": "stdout",
          "text": [
            "Fetched 737522 characters from the book.\n",
            "First 500 characters:\n",
            "The Project Gutenberg eBook of Pride and Prejudice\n",
            "This ebook is for the use of anyone anywhere in the United States and\n",
            "most other parts of the world at no cost and with almost no restrictions\n",
            "whatsoever. You may copy it, give it away or re-use it under the terms\n",
            "of the Project Gutenberg License included with this ebook or online\n",
            "at www.gutenberg.org. If you are not located in the United States,\n",
            "you will have to check the laws of the country where you are located\n",
            "before using this eBook.\n",
            "Title:\n"
          ]
        }
      ]
    },
    {
      "cell_type": "code",
      "source": [
        "book_content_part = book_content[:4000]"
      ],
      "metadata": {
        "id": "sRrW-p6zZHQi"
      },
      "execution_count": 6,
      "outputs": []
    },
    {
      "cell_type": "code",
      "source": [
        "book_content_part"
      ],
      "metadata": {
        "colab": {
          "base_uri": "https://localhost:8080/",
          "height": 128
        },
        "id": "nsE66faZZHcQ",
        "outputId": "ea6e45e1-d331-4617-b9a0-b93d9b69b6f5"
      },
      "execution_count": 7,
      "outputs": [
        {
          "output_type": "execute_result",
          "data": {
            "text/plain": [
              "'The Project Gutenberg eBook of Pride and Prejudice\\nThis ebook is for the use of anyone anywhere in the United States and\\nmost other parts of the world at no cost and with almost no restrictions\\nwhatsoever. You may copy it, give it away or re-use it under the terms\\nof the Project Gutenberg License included with this ebook or online\\nat www.gutenberg.org. If you are not located in the United States,\\nyou will have to check the laws of the country where you are located\\nbefore using this eBook.\\nTitle: Pride and Prejudice\\nAuthor: Jane Austen\\nRelease date: June 1, 1998 [eBook #1342]\\nMost recently updated: June 17, 2024\\nLanguage: English\\nCredits: Chuck Greif and the Online Distributed Proofreading Team at http://www.pgdp.net (This file was produced from images available at The Internet Archive)\\n*** START OF THE PROJECT GUTENBERG EBOOK PRIDE AND PREJUDICE ***\\n[Illustration:\\nGEORGE ALLEN\\nPUBLISHER\\n156 CHARING CROSS ROAD\\nLONDON\\nRUSKIN HOUSE\\n]\\n[Illustration:\\n_Reading Jane’s Letters._\\n_Chap 34._\\n]\\nPRIDE.\\nand\\nPREJUDICE\\nby\\nJane Austen,\\nwith a Preface by\\nGeorge Saintsbury\\nand\\nIllustrations by\\nHugh Thomson\\n[Illustration: 1894]\\nRuskin\\n156. Charing\\nHouse.\\nCross Road.\\nLondon\\nGeorge Allen.\\nCHISWICK PRESS:--CHARLES WHITTINGHAM AND CO.\\nTOOKS COURT, CHANCERY LANE, LONDON.\\n[Illustration:\\n_To J. Comyns Carr\\nin acknowledgment of all I\\nowe to his friendship and\\nadvice, these illustrations are\\ngratefully inscribed_\\n_Hugh Thomson_\\n]\\nPREFACE.\\n[Illustration]\\n_Walt Whitman has somewhere a fine and just distinction between “loving\\nby allowance” and “loving with personal love.” This distinction applies\\nto books as well as to men and women; and in the case of the not very\\nnumerous authors who are the objects of the personal affection, it\\nbrings a curious consequence with it. There is much more difference as\\nto their best work than in the case of those others who are loved “by\\nallowance” by convention, and because it is felt to be the right and\\nproper thing to love them. And in the sect--fairly large and yet\\nunusually choice--of Austenians or Janites, there would probably be\\nfound partisans of the claim to primacy of almost every one of the\\nnovels. To some the delightful freshness and humour of_ Northanger\\nAbbey, _its completeness, finish, and_ entrain, _obscure the undoubted\\ncritical facts that its scale is small, and its scheme, after all, that\\nof burlesque or parody, a kind in which the first rank is reached with\\ndifficulty._ Persuasion, _relatively faint in tone, and not enthralling\\nin interest, has devotees who exalt above all the others its exquisite\\ndelicacy and keeping. The catastrophe of_ Mansfield Park _is admittedly\\ntheatrical, the hero and heroine are insipid, and the author has almost\\nwickedly destroyed all romantic interest by expressly admitting that\\nEdmund only took Fanny because Mary shocked him, and that Fanny might\\nvery likely have taken Crawford if he had been a little more assiduous;\\nyet the matchless rehearsal-scenes and the characters of Mrs. Norris and\\nothers have secured, I believe, a considerable party for it._ Sense and\\nSensibility _has perhaps the fewest out-and-out admirers; but it does\\nnot want them._\\n_I suppose, however, that the majority of at least competent votes\\nwould, all things considered, be divided between_ Emma _and the present\\nbook; and perhaps the vulgar verdict (if indeed a fondness for Miss\\nAusten be not of itself a patent of exemption from any possible charge\\nof vulgarity) would go for_ Emma. _It is the larger, the more varied, the\\nmore popular; the author had by the time of its composition seen rather\\nmore of the world, and had improved her general, though not her most\\npeculiar and characteristic dialogue; such figures as Miss Bates, as the\\nEltons, cannot but unite the suffrages of everybody. On the other hand,\\nI, for my part, declare for_ Pride and Prejudice _unhesitatingly. It\\nseems to me the most perfect, the most characteristic, the most\\neminently quintessential of its author’s works; and for this contention\\nin suc'"
            ],
            "application/vnd.google.colaboratory.intrinsic+json": {
              "type": "string"
            }
          },
          "metadata": {},
          "execution_count": 7
        }
      ]
    },
    {
      "cell_type": "markdown",
      "source": [
        "# API呼び出し  \n",
        "参考:https://github.com/anthropics/anthropic-cookbook/blob/main/misc/prompt_caching.ipynb"
      ],
      "metadata": {
        "id": "wkTppzdAZXgc"
      }
    },
    {
      "cell_type": "code",
      "source": [],
      "metadata": {
        "id": "R_dDeM4MZZZq"
      },
      "execution_count": null,
      "outputs": []
    },
    {
      "cell_type": "code",
      "source": [
        "client = anthropic.Anthropic()\n",
        "def api_call():\n",
        "    messages = [\n",
        "        {\n",
        "            \"role\": \"user\",\n",
        "            \"content\": [\n",
        "                {\n",
        "                    \"type\": \"text\",\n",
        "                    \"text\": \"<book>\" + book_content_part + \"</book>\",\n",
        "                    \"cache_control\": {\"type\": \"ephemeral\"},\n",
        "                },\n",
        "                {\n",
        "                    \"type\": \"text\",\n",
        "                    \"text\": \"What is the title of this book? Only output the title.\",\n",
        "                },\n",
        "            ],\n",
        "        }\n",
        "    ]\n",
        "\n",
        "    start_time = time.time()\n",
        "    response = client.messages.create(\n",
        "        model=\"claude-3-5-sonnet-20240620\",\n",
        "        max_tokens=300,\n",
        "        messages=messages,\n",
        "        extra_headers={\"anthropic-beta\": \"prompt-caching-2024-07-31\"},\n",
        "    )\n",
        "    end_time = time.time()\n",
        "    return response, end_time - start_time"
      ],
      "metadata": {
        "id": "96hswLs5ZHor"
      },
      "execution_count": 8,
      "outputs": []
    },
    {
      "cell_type": "code",
      "source": [
        "response, elapsed_time = api_call()"
      ],
      "metadata": {
        "id": "WnQcXSXJZhpQ"
      },
      "execution_count": 9,
      "outputs": []
    },
    {
      "cell_type": "code",
      "source": [
        "response.usage"
      ],
      "metadata": {
        "colab": {
          "base_uri": "https://localhost:8080/"
        },
        "id": "vf7S3WIBd81C",
        "outputId": "5858ab55-9556-446a-9bce-fca47a8fa5e1"
      },
      "execution_count": 10,
      "outputs": [
        {
          "output_type": "execute_result",
          "data": {
            "text/plain": [
              "Usage(input_tokens=17, output_tokens=8, cache_creation_input_tokens=1107, cache_read_input_tokens=0)"
            ]
          },
          "metadata": {},
          "execution_count": 10
        }
      ]
    },
    {
      "cell_type": "code",
      "source": [
        "response.content[0].text"
      ],
      "metadata": {
        "colab": {
          "base_uri": "https://localhost:8080/",
          "height": 36
        },
        "id": "_8JRLx4ugVDe",
        "outputId": "4d3853ec-7572-4045-f082-66cde82f6947"
      },
      "execution_count": 14,
      "outputs": [
        {
          "output_type": "execute_result",
          "data": {
            "text/plain": [
              "'Pride and Prejudice'"
            ],
            "application/vnd.google.colaboratory.intrinsic+json": {
              "type": "string"
            }
          },
          "metadata": {},
          "execution_count": 14
        }
      ]
    },
    {
      "cell_type": "code",
      "source": [
        "elapsed_time"
      ],
      "metadata": {
        "colab": {
          "base_uri": "https://localhost:8080/"
        },
        "id": "FPREtH5Dd8H1",
        "outputId": "498803a3-aa7e-4405-9693-faf9502d65db"
      },
      "execution_count": 15,
      "outputs": [
        {
          "output_type": "execute_result",
          "data": {
            "text/plain": [
              "1.1239683628082275"
            ]
          },
          "metadata": {},
          "execution_count": 15
        }
      ]
    },
    {
      "cell_type": "code",
      "source": [],
      "metadata": {
        "id": "_kus2hnLZhzU"
      },
      "execution_count": null,
      "outputs": []
    },
    {
      "cell_type": "code",
      "source": [
        "response, elapsed_time = api_call()"
      ],
      "metadata": {
        "id": "gBw080RDZpWy"
      },
      "execution_count": 16,
      "outputs": []
    },
    {
      "cell_type": "code",
      "source": [
        "response.usage"
      ],
      "metadata": {
        "colab": {
          "base_uri": "https://localhost:8080/"
        },
        "id": "dLYzGLyVd-i6",
        "outputId": "82fc4eae-5cac-48d5-8bb0-81e3776fbe14"
      },
      "execution_count": 17,
      "outputs": [
        {
          "output_type": "execute_result",
          "data": {
            "text/plain": [
              "Usage(input_tokens=17, output_tokens=8, cache_creation_input_tokens=0, cache_read_input_tokens=1107)"
            ]
          },
          "metadata": {},
          "execution_count": 17
        }
      ]
    },
    {
      "cell_type": "code",
      "source": [
        "elapsed_time"
      ],
      "metadata": {
        "colab": {
          "base_uri": "https://localhost:8080/"
        },
        "id": "TAvyAidRd_jX",
        "outputId": "940e1d6f-095c-42b5-86f5-dc58d5d44df4"
      },
      "execution_count": 18,
      "outputs": [
        {
          "output_type": "execute_result",
          "data": {
            "text/plain": [
              "1.5080997943878174"
            ]
          },
          "metadata": {},
          "execution_count": 18
        }
      ]
    },
    {
      "cell_type": "code",
      "source": [],
      "metadata": {
        "id": "dhHYUXCfZ1_Z"
      },
      "execution_count": null,
      "outputs": []
    }
  ]
}