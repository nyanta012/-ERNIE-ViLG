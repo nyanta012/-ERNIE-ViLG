{
  "nbformat": 4,
  "nbformat_minor": 0,
  "metadata": {
    "colab": {
      "provenance": [],
      "authorship_tag": "ABX9TyPmh6+6P1rmBmKdr43j1Xi5",
      "include_colab_link": true
    },
    "kernelspec": {
      "name": "python3",
      "display_name": "Python 3"
    },
    "language_info": {
      "name": "python"
    }
  },
  "cells": [
    {
      "cell_type": "markdown",
      "metadata": {
        "id": "view-in-github",
        "colab_type": "text"
      },
      "source": [
        "<a href=\"https://colab.research.google.com/github/nyanta012/demo/blob/main/Structured_outputs.ipynb\" target=\"_parent\"><img src=\"https://colab.research.google.com/assets/colab-badge.svg\" alt=\"Open In Colab\"/></a>"
      ]
    },
    {
      "cell_type": "code",
      "execution_count": 1,
      "metadata": {
        "id": "dAve5NVvYrob"
      },
      "outputs": [],
      "source": [
        "%%capture\n",
        "!pip install openai"
      ]
    },
    {
      "cell_type": "code",
      "source": [
        "import getpass\n",
        "import os\n",
        "from typing import List, Optional\n",
        "\n",
        "from pydantic import BaseModel\n",
        "from openai import OpenAI\n",
        "from pydantic import BaseModel, Field\n",
        "\n",
        "\n",
        "if not os.environ.get(\"OPENAI_API_KEY\"):\n",
        "    os.environ[\"OPENAI_API_KEY\"] = getpass.getpass(\"OpenAI API Key:\")"
      ],
      "metadata": {
        "colab": {
          "base_uri": "https://localhost:8080/"
        },
        "id": "dUeWNJERZQoJ",
        "outputId": "45bce8ef-3eb1-4e28-f388-9612d9b84d0d"
      },
      "execution_count": 2,
      "outputs": [
        {
          "name": "stdout",
          "output_type": "stream",
          "text": [
            "OpenAI API Key:··········\n"
          ]
        }
      ]
    },
    {
      "cell_type": "code",
      "source": [],
      "metadata": {
        "id": "C4IajvxyZo0d"
      },
      "execution_count": null,
      "outputs": []
    },
    {
      "cell_type": "markdown",
      "source": [
        "# 基本的な使い方"
      ],
      "metadata": {
        "id": "4o_OkrJyZ03q"
      }
    },
    {
      "cell_type": "code",
      "source": [
        "class ResponseStep(BaseModel):\n",
        "    steps: List[str]\n",
        "    answer: int"
      ],
      "metadata": {
        "id": "9aLR15MkZpjx"
      },
      "execution_count": 8,
      "outputs": []
    },
    {
      "cell_type": "code",
      "source": [
        "client = OpenAI()\n",
        "\n",
        "response = client.beta.chat.completions.parse(\n",
        "    model=\"gpt-4o-2024-08-06\",\n",
        "    temperature=0,\n",
        "    messages=[\n",
        "        {\n",
        "            \"role\": \"system\",\n",
        "            \"content\": \"\"\"あなたは優秀なAIです\"\"\",\n",
        "        },\n",
        "        {\n",
        "            \"role\": \"user\",\n",
        "            \"content\": \"10個のりんごを二人で分けると1人は何個になる？\",\n",
        "        },\n",
        "    ],\n",
        "    response_format=ResponseStep,\n",
        ")"
      ],
      "metadata": {
        "id": "7eR-HCIMZp7r"
      },
      "execution_count": 9,
      "outputs": []
    },
    {
      "cell_type": "code",
      "source": [
        "response.choices[0].message.parsed.steps"
      ],
      "metadata": {
        "colab": {
          "base_uri": "https://localhost:8080/"
        },
        "id": "AzbNxI0GdtEe",
        "outputId": "750592fc-66bc-4f77-c66c-15bcf5cbcd96"
      },
      "execution_count": 10,
      "outputs": [
        {
          "output_type": "execute_result",
          "data": {
            "text/plain": [
              "['まず、10個のりんごを2人で分けるという問題を考えます。',\n",
              " 'りんごの総数は10個です。',\n",
              " '2人で分けるので、10個のりんごを2で割ります。',\n",
              " '計算式は 10 ÷ 2 です。',\n",
              " 'この計算を行うと、答えは5になります。',\n",
              " 'したがって、1人あたりのりんごの数は5個です。']"
            ]
          },
          "metadata": {},
          "execution_count": 10
        }
      ]
    },
    {
      "cell_type": "code",
      "source": [
        "response.choices[0].message.parsed.answer"
      ],
      "metadata": {
        "colab": {
          "base_uri": "https://localhost:8080/"
        },
        "id": "aVLqtEjbduAf",
        "outputId": "5135469c-98f5-459b-8506-c9a7e973002f"
      },
      "execution_count": 14,
      "outputs": [
        {
          "output_type": "execute_result",
          "data": {
            "text/plain": [
              "5"
            ]
          },
          "metadata": {},
          "execution_count": 14
        }
      ]
    },
    {
      "cell_type": "code",
      "source": [],
      "metadata": {
        "id": "8Au5g1DrZxWE"
      },
      "execution_count": null,
      "outputs": []
    },
    {
      "cell_type": "code",
      "source": [],
      "metadata": {
        "id": "bm4yEp8xZ5Os"
      },
      "execution_count": null,
      "outputs": []
    },
    {
      "cell_type": "code",
      "source": [],
      "metadata": {
        "id": "J9tBbm3zhweI"
      },
      "execution_count": null,
      "outputs": []
    },
    {
      "cell_type": "code",
      "source": [],
      "metadata": {
        "id": "mTFKUb7mhw9p"
      },
      "execution_count": null,
      "outputs": []
    },
    {
      "cell_type": "code",
      "source": [],
      "metadata": {
        "id": "LHNx1PIthxE5"
      },
      "execution_count": null,
      "outputs": []
    },
    {
      "cell_type": "code",
      "source": [],
      "metadata": {
        "id": "eZn5jovOaV86"
      },
      "execution_count": null,
      "outputs": []
    },
    {
      "cell_type": "markdown",
      "source": [
        "# スコア算出"
      ],
      "metadata": {
        "id": "oZFUt-1naWWM"
      }
    },
    {
      "cell_type": "code",
      "source": [
        "class Score(BaseModel):\n",
        "    positive: int\n",
        "    negative: int\n",
        "    confidence: float = Field(...,description=\"回答の自信度を0から1の間で記入する\")\n",
        "\n",
        "\n",
        "class UserEmotion(BaseModel):\n",
        "    \"\"\"Userの立場で考える\"\"\"\n",
        "\n",
        "    understanding_point: str = Field(..., description=\"理解できた点\")\n",
        "    non_understanding_point: str = Field(..., description=\"理解できなかった点\")\n",
        "\n",
        "\n",
        "class ResponseStep(BaseModel):\n",
        "    score: List[Score]\n",
        "    user_feedback: List[UserEmotion]\n",
        "    explanation: str = Field(..., description=\"回答のみを出力する\")"
      ],
      "metadata": {
        "id": "jWBuULPMaWde"
      },
      "execution_count": 17,
      "outputs": []
    },
    {
      "cell_type": "code",
      "source": [
        "response = client.beta.chat.completions.parse(\n",
        "        model=\"gpt-4o-2024-08-06\",\n",
        "        temperature=0,\n",
        "        messages=[\n",
        "            {\n",
        "                \"role\": \"system\",\n",
        "                \"content\": \"\"\"あなたは優秀なAIです\"\"\",\n",
        "            },\n",
        "            {\n",
        "                \"role\": \"user\",\n",
        "                \"content\": \"10個のりんごを100人で分けると1人は何個になる？\",\n",
        "            },\n",
        "        ],\n",
        "        response_format=ResponseStep,\n",
        "    )"
      ],
      "metadata": {
        "id": "XRx97sTqmPdE"
      },
      "execution_count": 18,
      "outputs": []
    },
    {
      "cell_type": "code",
      "source": [
        "response.choices[0].message.parsed.score"
      ],
      "metadata": {
        "colab": {
          "base_uri": "https://localhost:8080/"
        },
        "id": "BrmsJ7Z7n0zB",
        "outputId": "5c9419d0-8506-49d5-a57a-628af6d19781"
      },
      "execution_count": 19,
      "outputs": [
        {
          "output_type": "execute_result",
          "data": {
            "text/plain": [
              "[Score(positive=1, negative=0, confidence=0.9)]"
            ]
          },
          "metadata": {},
          "execution_count": 19
        }
      ]
    },
    {
      "cell_type": "code",
      "source": [
        "response.choices[0].message.parsed.user_feedback[0].understanding_point"
      ],
      "metadata": {
        "colab": {
          "base_uri": "https://localhost:8080/",
          "height": 36
        },
        "id": "MOYSdrn2dzXY",
        "outputId": "51eb9383-fbbe-468a-d321-6832cd8a6924"
      },
      "execution_count": 20,
      "outputs": [
        {
          "output_type": "execute_result",
          "data": {
            "text/plain": [
              "'りんごを100人で分けると、1人あたりのりんごの数が計算できた。'"
            ],
            "application/vnd.google.colaboratory.intrinsic+json": {
              "type": "string"
            }
          },
          "metadata": {},
          "execution_count": 20
        }
      ]
    },
    {
      "cell_type": "code",
      "source": [
        "response.choices[0].message.parsed.user_feedback[0].non_understanding_point"
      ],
      "metadata": {
        "colab": {
          "base_uri": "https://localhost:8080/",
          "height": 36
        },
        "id": "93kAvh_0d005",
        "outputId": "216dbcb6-0eae-45ca-b85e-72c414bbd32c"
      },
      "execution_count": 21,
      "outputs": [
        {
          "output_type": "execute_result",
          "data": {
            "text/plain": [
              "'りんごの数が10個しかないのに、100人で分けることができるのか疑問に思った。'"
            ],
            "application/vnd.google.colaboratory.intrinsic+json": {
              "type": "string"
            }
          },
          "metadata": {},
          "execution_count": 21
        }
      ]
    },
    {
      "cell_type": "code",
      "source": [
        "response.choices[0].message.parsed.explanation"
      ],
      "metadata": {
        "colab": {
          "base_uri": "https://localhost:8080/",
          "height": 36
        },
        "id": "196maR2ud2j_",
        "outputId": "ffbfbbf9-4069-437a-c4c0-502f55cdc98e"
      },
      "execution_count": 22,
      "outputs": [
        {
          "output_type": "execute_result",
          "data": {
            "text/plain": [
              "'10個のりんごを100人で分けると、1人あたりのりんごの数は0.1個になります。これは、10を100で割った結果です。'"
            ],
            "application/vnd.google.colaboratory.intrinsic+json": {
              "type": "string"
            }
          },
          "metadata": {},
          "execution_count": 22
        }
      ]
    },
    {
      "cell_type": "code",
      "source": [],
      "metadata": {
        "id": "iNy6WKwZd32C"
      },
      "execution_count": null,
      "outputs": []
    },
    {
      "cell_type": "code",
      "source": [
        "if response.choices[0].message.parsed.score[0].confidence > 0.5:\n",
        "    print(response.choices[0].message.parsed.explanation)\n",
        "else:\n",
        "    print(\"no answer\")"
      ],
      "metadata": {
        "colab": {
          "base_uri": "https://localhost:8080/"
        },
        "id": "Bzv2pyJod4tk",
        "outputId": "80cda213-11cc-4b18-efe3-2b33de906816"
      },
      "execution_count": 23,
      "outputs": [
        {
          "output_type": "stream",
          "name": "stdout",
          "text": [
            "10個のりんごを100人で分けると、1人あたりのりんごの数は0.1個になります。これは、10を100で割った結果です。\n"
          ]
        }
      ]
    },
    {
      "cell_type": "code",
      "source": [],
      "metadata": {
        "id": "Nz0IBnbxayaw"
      },
      "execution_count": null,
      "outputs": []
    },
    {
      "cell_type": "code",
      "source": [],
      "metadata": {
        "id": "KcbvFSRLa1V1"
      },
      "execution_count": null,
      "outputs": []
    },
    {
      "cell_type": "code",
      "source": [],
      "metadata": {
        "id": "a7y5FWAza1Yy"
      },
      "execution_count": null,
      "outputs": []
    },
    {
      "cell_type": "markdown",
      "source": [
        "# RAGとかAgentsでの利用"
      ],
      "metadata": {
        "id": "ADfAFUz8a1dN"
      }
    },
    {
      "cell_type": "code",
      "source": [
        "class ReasoningStep(BaseModel):\n",
        "    reasoning: str\n",
        "    action: str = Field(..., description=\"行動を単語で記入する\")\n",
        "\n",
        "\n",
        "class ActionStep(BaseModel):\n",
        "    reasoning: str\n",
        "    action: str = Field(..., description=\"行動を単語で記入する\")\n",
        "    query: Optional[str] = Field(\n",
        "        description=\"RAGを検索する場合はその時のクエリを記入する\"\n",
        "    )\n",
        "\n",
        "\n",
        "class ResponseStep(BaseModel):\n",
        "    reasoning_steps: list[ReasoningStep]\n",
        "    action_steps: list[ActionStep]"
      ],
      "metadata": {
        "id": "-Gto7hETa5pe"
      },
      "execution_count": 24,
      "outputs": []
    },
    {
      "cell_type": "code",
      "source": [
        "client = OpenAI()\n",
        "\n",
        "completion = client.beta.chat.completions.parse(\n",
        "    model=\"gpt-4o-2024-08-06\",\n",
        "    messages=[\n",
        "        {\n",
        "            \"role\": \"system\",\n",
        "            \"content\": \"\"\"\n",
        "            あなたは優秀なRAGの検索クエリを抽出する言語モデルです。ユーザーのクエリから目的を考えて、どのような行動をするべき考えてください。\n",
        "            段階的な行動が必要である場合は、ステップ毎に何をするべきかを考えてください。\n",
        "            また、その他知るべき内容があれば人間に質問を行うこともできます\n",
        "            利用できるデータベースは下記です。\n",
        "              - にゃんたの年齢、性別、趣味の情報が入ったデータベース\n",
        "              - にゃんたの普段の行動の情報が入ったデータベース\"\"\",\n",
        "        },\n",
        "        {\"role\": \"user\", \"content\": \"にゃんたはどんな人ですか？\"},\n",
        "    ],\n",
        "    response_format=ResponseStep,\n",
        ")"
      ],
      "metadata": {
        "id": "iTzckUTda-xQ"
      },
      "execution_count": 25,
      "outputs": []
    },
    {
      "cell_type": "code",
      "source": [
        "completion.choices[0].message.parsed.reasoning_steps"
      ],
      "metadata": {
        "colab": {
          "base_uri": "https://localhost:8080/"
        },
        "id": "8LaKpbEcd60L",
        "outputId": "1aefd213-4733-41f6-9ae6-e3d172e334e5"
      },
      "execution_count": 26,
      "outputs": [
        {
          "output_type": "execute_result",
          "data": {
            "text/plain": [
              "[ReasoningStep(reasoning='ユーザーはにゃんたについて知りたいようなので、まずデータベースで持っているにゃんたに関する情報を探し出す必要があります。', action='情報収集'),\n",
              " ReasoningStep(reasoning='データベースには2種類の情報がある。にゃんたの基本的なプロファイル情報（年齢、性別、趣味）と、普段の行動に関する情報です。まず、プロファイル情報を取得してユーザーに提供するのが適切です。', action='プロフィール検索')]"
            ]
          },
          "metadata": {},
          "execution_count": 26
        }
      ]
    },
    {
      "cell_type": "code",
      "source": [
        "completion.choices[0].message.parsed.action_steps"
      ],
      "metadata": {
        "colab": {
          "base_uri": "https://localhost:8080/"
        },
        "id": "iX23rGj8d8BR",
        "outputId": "73c7349d-9af7-46a3-b981-de63d8dabc43"
      },
      "execution_count": 27,
      "outputs": [
        {
          "output_type": "execute_result",
          "data": {
            "text/plain": [
              "[ActionStep(reasoning='まず、にゃんたの年齢、性別、趣味の情報を検索します。これが基礎的なパーソナル情報だからです。', action='検索', query='にゃんたの年齢, 性別, 趣味'),\n",
              " ActionStep(reasoning='プロフィール情報の次に、必要であれば普段の行動に関する情報を追加できます。これによって、にゃんたの生活スタイルや特性をより深く理解できます。', action='行動検索', query='にゃんたの普段の行動')]"
            ]
          },
          "metadata": {},
          "execution_count": 27
        }
      ]
    },
    {
      "cell_type": "code",
      "source": [
        "for action in completion.choices[0].message.parsed.action_steps:\n",
        "    print(f\"検索クエリ：{action.query}\")"
      ],
      "metadata": {
        "colab": {
          "base_uri": "https://localhost:8080/"
        },
        "id": "JC5xndond84g",
        "outputId": "27ffbecf-4665-4a28-acc1-b197e2c6cb68"
      },
      "execution_count": 28,
      "outputs": [
        {
          "output_type": "stream",
          "name": "stdout",
          "text": [
            "検索クエリ：にゃんたの年齢, 性別, 趣味\n",
            "検索クエリ：にゃんたの普段の行動\n"
          ]
        }
      ]
    },
    {
      "cell_type": "code",
      "source": [],
      "metadata": {
        "id": "z2TRX2ZGbqV2"
      },
      "execution_count": null,
      "outputs": []
    },
    {
      "cell_type": "code",
      "source": [],
      "metadata": {
        "id": "yI7QImGPbqeh"
      },
      "execution_count": null,
      "outputs": []
    }
  ]
}