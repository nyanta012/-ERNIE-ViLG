{
  "nbformat": 4,
  "nbformat_minor": 0,
  "metadata": {
    "colab": {
      "provenance": [],
      "authorship_tag": "ABX9TyOpzknBJlXhvWHsymwPcWm9",
      "include_colab_link": true
    },
    "kernelspec": {
      "name": "python3",
      "display_name": "Python 3"
    },
    "language_info": {
      "name": "python"
    }
  },
  "cells": [
    {
      "cell_type": "markdown",
      "metadata": {
        "id": "view-in-github",
        "colab_type": "text"
      },
      "source": [
        "<a href=\"https://colab.research.google.com/github/nyanta012/demo/blob/main/LangGraph_tutorial.ipynb\" target=\"_parent\"><img src=\"https://colab.research.google.com/assets/colab-badge.svg\" alt=\"Open In Colab\"/></a>"
      ]
    },
    {
      "cell_type": "code",
      "execution_count": null,
      "metadata": {
        "id": "x47Z-zxGpOyc"
      },
      "outputs": [],
      "source": [
        "%%capture --no-stderr\n",
        "%pip install -U langgraph httpx langchain_openai"
      ]
    },
    {
      "cell_type": "markdown",
      "source": [
        "# BasicGraph"
      ],
      "metadata": {
        "id": "1XzLTthMpZ7I"
      }
    },
    {
      "cell_type": "code",
      "source": [
        "def node_a(input):\n",
        "    input += \" a\"\n",
        "    return input\n",
        "\n",
        "def node_b(input):\n",
        "    input += \" b\"\n",
        "    return input"
      ],
      "metadata": {
        "id": "voQXpRkgpaVY"
      },
      "execution_count": null,
      "outputs": []
    },
    {
      "cell_type": "code",
      "source": [
        "from langgraph.graph import Graph\n",
        "from IPython.display import Image, display"
      ],
      "metadata": {
        "id": "QUSa4SkD7rzl"
      },
      "execution_count": null,
      "outputs": []
    },
    {
      "cell_type": "code",
      "source": [
        "graph = Graph()\n",
        "\n",
        "graph.add_node(\"node_a\", node_a)\n",
        "graph.add_node(\"node_b\", node_b)\n",
        "graph.set_entry_point(\"node_a\")\n",
        "graph.set_finish_point(\"node_b\")\n",
        "graph.add_edge(\"node_a\", \"node_b\")\n",
        "runner = graph.compile()"
      ],
      "metadata": {
        "id": "a4TqRljn7x0Z"
      },
      "execution_count": null,
      "outputs": []
    },
    {
      "cell_type": "code",
      "source": [
        "display(Image(runner.get_graph().draw_mermaid_png()))"
      ],
      "metadata": {
        "colab": {
          "base_uri": "https://localhost:8080/",
          "height": 319
        },
        "id": "TtqgpZco9Rki",
        "outputId": "6b9775f7-55ed-4f41-c785-d0a4cca045bc"
      },
      "execution_count": null,
      "outputs": [
        {
          "output_type": "display_data",
          "data": {
            "image/jpeg": "[encoded data removed]",
            "text/plain": [
              "<IPython.core.display.Image object>"
            ]
          },
          "metadata": {}
        }
      ]
    },
    {
      "cell_type": "code",
      "source": [
        "runner.invoke(\"こんにちは\")"
      ],
      "metadata": {
        "colab": {
          "base_uri": "https://localhost:8080/",
          "height": 36
        },
        "id": "LJEuv4ND32Yv",
        "outputId": "5930bffe-48d0-45bc-9447-557cb2cd81c8"
      },
      "execution_count": null,
      "outputs": [
        {
          "output_type": "execute_result",
          "data": {
            "text/plain": [
              "'こんにちは a b'"
            ],
            "application/vnd.google.colaboratory.intrinsic+json": {
              "type": "string"
            }
          },
          "metadata": {},
          "execution_count": 15
        }
      ]
    },
    {
      "cell_type": "code",
      "source": [],
      "metadata": {
        "id": "eZsshiql30ec"
      },
      "execution_count": null,
      "outputs": []
    },
    {
      "cell_type": "code",
      "source": [],
      "metadata": {
        "id": "1TEcl7z_pz2C"
      },
      "execution_count": null,
      "outputs": []
    },
    {
      "cell_type": "code",
      "source": [],
      "metadata": {
        "id": "lz7BixKrp5Lx"
      },
      "execution_count": null,
      "outputs": []
    },
    {
      "cell_type": "code",
      "source": [],
      "metadata": {
        "id": "ic4mEGKrp5R3"
      },
      "execution_count": null,
      "outputs": []
    },
    {
      "cell_type": "markdown",
      "source": [
        "# MessageGraph"
      ],
      "metadata": {
        "id": "3W-cA-Pep0US"
      }
    },
    {
      "cell_type": "code",
      "source": [
        "def node_a(input):\n",
        "    input[0].content += \" a\"\n",
        "    return input\n",
        "\n",
        "def node_b(input):\n",
        "    input[0].content += \" b\"\n",
        "    return input"
      ],
      "metadata": {
        "id": "mYJUeJZUpfb4"
      },
      "execution_count": null,
      "outputs": []
    },
    {
      "cell_type": "code",
      "source": [
        "from langgraph.graph import MessageGraph\n",
        "from langchain_core.messages import HumanMessage\n",
        "\n",
        "graph = MessageGraph()\n",
        "graph.add_node(\"node_a\", node_a)\n",
        "graph.add_node(\"node_b\", node_b)\n",
        "graph.set_entry_point(\"node_a\")\n",
        "graph.set_finish_point(\"node_b\")\n",
        "graph.add_edge(\"node_a\", \"node_b\")\n",
        "\n",
        "runner = graph.compile()\n",
        "runner.invoke(\"こんにちは\")"
      ],
      "metadata": {
        "colab": {
          "base_uri": "https://localhost:8080/"
        },
        "id": "ei03TkMEp-Yu",
        "outputId": "74c2dc9c-9fc7-4135-9c1c-ac898bc0e43a"
      },
      "execution_count": null,
      "outputs": [
        {
          "output_type": "execute_result",
          "data": {
            "text/plain": [
              "[HumanMessage(content='こんにちは a b', id='737a22e3-05f5-42dd-b422-32b2f8a0d353')]"
            ]
          },
          "metadata": {},
          "execution_count": 18
        }
      ]
    },
    {
      "cell_type": "code",
      "source": [],
      "metadata": {
        "id": "VhR6Btrap-ic"
      },
      "execution_count": null,
      "outputs": []
    },
    {
      "cell_type": "code",
      "source": [],
      "metadata": {
        "id": "x8AxgXxrp-rV"
      },
      "execution_count": null,
      "outputs": []
    },
    {
      "cell_type": "markdown",
      "source": [
        "# StateGraph"
      ],
      "metadata": {
        "id": "kGwzUbZ5p-_u"
      }
    },
    {
      "cell_type": "code",
      "source": [
        "import getpass\n",
        "import os\n",
        "from typing import Annotated\n",
        "from typing_extensions import TypedDict\n",
        "\n",
        "from langgraph.graph import StateGraph\n",
        "from langgraph.graph.message import add_messages\n",
        "from langchain_openai import ChatOpenAI\n",
        "\n",
        "\n",
        "if not os.environ.get(\"OPENAI_API_KEY\"):\n",
        "    os.environ[\"OPENAI_API_KEY\"] = getpass.getpass(\"OpenAI API Key:\")\n",
        "\n",
        "llm = ChatOpenAI(temperature=0, model=\"gpt-3.5-turbo\")"
      ],
      "metadata": {
        "colab": {
          "base_uri": "https://localhost:8080/"
        },
        "id": "2TUz9yBMqBPK",
        "outputId": "4f54b4fe-523b-4090-d8d5-86ca99c7265b"
      },
      "execution_count": null,
      "outputs": [
        {
          "name": "stdout",
          "output_type": "stream",
          "text": [
            "OpenAI API Key:··········\n"
          ]
        }
      ]
    },
    {
      "cell_type": "code",
      "source": [
        "class State(TypedDict):\n",
        "    messages: Annotated[list, add_messages]\n",
        "    api_call_count: int"
      ],
      "metadata": {
        "id": "bN2iem_0qBvE"
      },
      "execution_count": null,
      "outputs": []
    },
    {
      "cell_type": "code",
      "source": [
        "def chatbot(state: State):\n",
        "    if not state[\"api_call_count\"]:\n",
        "        state[\"api_call_count\"] = 0\n",
        "    state[\"api_call_count\"] += 1\n",
        "    return {\"messages\": [llm.invoke(state[\"messages\"])], \"api_call_count\": state[\"api_call_count\"]}"
      ],
      "metadata": {
        "id": "0V0N0LVIqBzD"
      },
      "execution_count": null,
      "outputs": []
    },
    {
      "cell_type": "code",
      "source": [
        "graph = StateGraph(State)\n",
        "\n",
        "graph.add_node(\"chatbot\", chatbot)\n",
        "graph.set_entry_point(\"chatbot\")\n",
        "graph.set_finish_point(\"chatbot\")\n",
        "runner = graph.compile()"
      ],
      "metadata": {
        "id": "k409RJ4SqB3B"
      },
      "execution_count": null,
      "outputs": []
    },
    {
      "cell_type": "code",
      "source": [
        "display(Image(runner.get_graph().draw_mermaid_png()))"
      ],
      "metadata": {
        "colab": {
          "base_uri": "https://localhost:8080/",
          "height": 235
        },
        "id": "ud9nbaDx37bw",
        "outputId": "49982eaa-9051-45c6-88d2-df11afc9d9fb"
      },
      "execution_count": null,
      "outputs": [
        {
          "output_type": "display_data",
          "data": {
            "image/jpeg": "[encoded data removed]",
            "text/plain": [
              "<IPython.core.display.Image object>"
            ]
          },
          "metadata": {}
        }
      ]
    },
    {
      "cell_type": "code",
      "source": [
        "response = runner.invoke({\"messages\": [\"こんにちは\"], \"api_call_count\": 1})\n",
        "response[\"messages\"][-1].content"
      ],
      "metadata": {
        "colab": {
          "base_uri": "https://localhost:8080/",
          "height": 36
        },
        "id": "pHdUC41339BZ",
        "outputId": "4e45a051-dbf5-4b4c-ddaf-00da70a65768"
      },
      "execution_count": null,
      "outputs": [
        {
          "output_type": "execute_result",
          "data": {
            "text/plain": [
              "'こんにちは！お元気ですか？何かお手伝いできることがありますか？'"
            ],
            "application/vnd.google.colaboratory.intrinsic+json": {
              "type": "string"
            }
          },
          "metadata": {},
          "execution_count": 26
        }
      ]
    },
    {
      "cell_type": "code",
      "source": [
        "response[\"api_call_count\"]"
      ],
      "metadata": {
        "colab": {
          "base_uri": "https://localhost:8080/"
        },
        "id": "aIteTjAytSgq",
        "outputId": "0f2bad0f-fab3-4e80-b9a3-90dac8232f08"
      },
      "execution_count": null,
      "outputs": [
        {
          "output_type": "execute_result",
          "data": {
            "text/plain": [
              "2"
            ]
          },
          "metadata": {},
          "execution_count": 27
        }
      ]
    },
    {
      "cell_type": "code",
      "source": [],
      "metadata": {
        "id": "xEIRZcUUtXPv"
      },
      "execution_count": null,
      "outputs": []
    },
    {
      "cell_type": "code",
      "source": [],
      "metadata": {
        "id": "lBSBI242tXWi"
      },
      "execution_count": null,
      "outputs": []
    },
    {
      "cell_type": "markdown",
      "source": [
        "# 条件付きエッジの利用"
      ],
      "metadata": {
        "id": "o5lhKIOLtXcK"
      }
    },
    {
      "cell_type": "code",
      "source": [
        "from langchain_core.tools import tool\n",
        "from langchain_core.messages import ToolMessage\n",
        "from langgraph.graph import END\n",
        "\n",
        "\n",
        "@tool\n",
        "def fake_database_api(query: str) -> str:\n",
        "    \"\"\"パーソナル情報を格納したデータベースを検索するAPI\"\"\"\n",
        "    return \"にゃんたは毎日8時間寝ます\""
      ],
      "metadata": {
        "id": "CXzav_hFtXp-"
      },
      "execution_count": null,
      "outputs": []
    },
    {
      "cell_type": "code",
      "source": [
        "class State(TypedDict):\n",
        "    messages: Annotated[list, add_messages]\n",
        "\n",
        "\n",
        "llm = ChatOpenAI(temperature=0, model=\"gpt-3.5-turbo\")\n",
        "llm_with_tools = llm.bind_tools([fake_database_api])"
      ],
      "metadata": {
        "id": "iXE1OFIhDUYY"
      },
      "execution_count": null,
      "outputs": []
    },
    {
      "cell_type": "code",
      "source": [
        "def llm_agent(state):\n",
        "    state[\"messages\"].append(llm_with_tools.invoke(state[\"messages\"]))\n",
        "    return state\n",
        "\n",
        "def tool(state):\n",
        "    tool_by_name = {\"fake_database_api\": fake_database_api}\n",
        "    last_message = state[\"messages\"][-1]\n",
        "    tool_function = tool_by_name[last_message.tool_calls[0][\"name\"]]\n",
        "    tool_output = tool_function.invoke(last_message.tool_calls[0][\"args\"])\n",
        "    state[\"messages\"].append(ToolMessage(content=tool_output, tool_call_id=last_message.tool_calls[0][\"id\"]))\n",
        "    return state\n",
        "\n",
        "def router(state):\n",
        "    last_message = state[\"messages\"][-1]\n",
        "    if last_message.tool_calls:\n",
        "        return \"tool\"\n",
        "    else:\n",
        "        return \"__end__\""
      ],
      "metadata": {
        "id": "OWoVw-9BtS1S"
      },
      "execution_count": null,
      "outputs": []
    },
    {
      "cell_type": "code",
      "source": [
        "graph = StateGraph(State)\n",
        "\n",
        "graph.add_node(\"llm_agent\", llm_agent)\n",
        "graph.add_node(\"tool\", tool)\n",
        "\n",
        "graph.set_entry_point(\"llm_agent\")\n",
        "graph.add_conditional_edges(\"llm_agent\",\n",
        "                            router,\n",
        "                            {\"tool\":\"tool\", \"__end__\": END})\n",
        "\n",
        "graph.add_edge(\"tool\", \"llm_agent\")\n",
        "\n",
        "runner = graph.compile()"
      ],
      "metadata": {
        "id": "WOtoocNGtow5"
      },
      "execution_count": null,
      "outputs": []
    },
    {
      "cell_type": "code",
      "source": [
        "display(Image(runner.get_graph().draw_mermaid_png()))"
      ],
      "metadata": {
        "colab": {
          "base_uri": "https://localhost:8080/",
          "height": 235
        },
        "id": "mHlDQp5v3_JL",
        "outputId": "e3ff7cbf-d170-48ed-d485-1d3c70d5c13e"
      },
      "execution_count": null,
      "outputs": [
        {
          "output_type": "display_data",
          "data": {
            "image/jpeg": "[encoded data removed]",
            "text/plain": [
              "<IPython.core.display.Image object>"
            ]
          },
          "metadata": {}
        }
      ]
    },
    {
      "cell_type": "code",
      "source": [
        "def get_response(query: str):\n",
        "    response = runner.invoke({\"messages\": [query]})\n",
        "    # print(response)\n",
        "    return response[\"messages\"][-1].content"
      ],
      "metadata": {
        "id": "H_OaNjHMttum"
      },
      "execution_count": null,
      "outputs": []
    },
    {
      "cell_type": "code",
      "source": [
        "get_response(\"にゃんたについて教えて\")"
      ],
      "metadata": {
        "colab": {
          "base_uri": "https://localhost:8080/",
          "height": 36
        },
        "id": "4pz6u4bo4AmZ",
        "outputId": "b6d21384-c2f6-4c1f-da0b-3d69a7a33936"
      },
      "execution_count": null,
      "outputs": [
        {
          "output_type": "execute_result",
          "data": {
            "text/plain": [
              "'にゃんたは毎日8時間寝るそうです。'"
            ],
            "application/vnd.google.colaboratory.intrinsic+json": {
              "type": "string"
            }
          },
          "metadata": {},
          "execution_count": 42
        }
      ]
    }
  ]
}